{
 "cells": [
  {
   "cell_type": "code",
   "execution_count": 2,
   "id": "60953a8e-f31b-4f44-8b3d-a7dbaf6293d9",
   "metadata": {},
   "outputs": [],
   "source": [
    "import numpy as np\n",
    "# import torch\n",
    "# ! pip install scipy\n",
    "from pathlib import Path\n",
    "# !pip install scipy\n",
    "import scipy"
   ]
  },
  {
   "cell_type": "code",
   "execution_count": 4,
   "id": "e2b02cb2-43ee-4fef-914d-0ca27cd40984",
   "metadata": {},
   "outputs": [],
   "source": [
    "dataset_root = Path('/mnt/lustre/OneDrive/sensetime-server-mirror/EEG-Data/Preprocessed-upload') / 'Stand'\n", 
    "# dataset_root = Path('eeg-preprocessed\\Preprocessed') / 'Tinnitus'"
   ]
  },
  {
   "cell_type": "code",
   "execution_count": 29,
   "id": "de37ddcc",
   "metadata": {},
   "outputs": [],
   "source": [
    "sample_name = 'AS_tinn_500and5kHz_mcattn-2_sess1_set1_ICAREV.mat'\n",
    "# sample_name = 'BH_cntl_2-Stream_mcattn-2_sess1_set1_ICAREV.mat' # 2*5, why?\n",
    "\n",
    "# with open(str(dataset_root / sample_name), 'r') as f:\n",
    "sample_mat = scipy.io.loadmat(str(dataset_root / sample_name))"
   ]
  },
  {
   "cell_type": "code",
   "execution_count": 30,
   "id": "a0aaed63",
   "metadata": {},
   "outputs": [
    {
     "data": {
      "text/plain": [
       "dict_keys(['__header__', '__version__', '__globals__', 'FI', 'allchreport', 'beh', 'behfiles', 'blknums', 'conds', 'eeg', 'eegfiles', 'files', 'filt', 'fs', 'fullpath', 'isivecs', 'loc', 'notes', 'originalfile', 'playvecs', 'stim', 'stri', 'svICIREV', 'time', 'allicadata', 'ica2chan', 'Reference', 'allartscr', 'allepochs', 'alltrlreport'])"
      ]
     },
     "execution_count": 30,
     "metadata": {},
     "output_type": "execute_result"
    }
   ],
   "source": [
    "sample_mat.keys()"
   ]
  },
  {
   "cell_type": "code",
   "execution_count": 40,
   "id": "bf9f6a9d-be81-4870-93df-f9c99a741960",
   "metadata": {},
   "outputs": [
    {
     "data": {
      "text/plain": [
       "array([[1, 1, 2, 2, 1, 1, 1, 1, 1, 1, 1, 2, 3, 2, 2, 3, 1, 2, 1, 1, 2, 1,\n",
       "        4, 2, 4, 1, 2, 2, 1, 3, 1, 2, 4, 3, 1, 1, 2, 1, 1, 2, 2, 1, 1, 2,\n",
       "        2, 1, 3, 2, 3, 1, 2, 1, 2, 2, 4, 1, 1, 2, 2, 4, 2, 2, 1, 1, 2, 1,\n",
       "        1, 4, 2, 1, 1, 2, 2, 1, 1, 2, 4, 1, 4, 2, 1, 1, 2, 2, 3, 1, 1, 3,\n",
       "        2, 1, 2, 1, 2, 2, 1, 4, 2, 1, 2, 1, 4, 2, 1, 1, 2, 2, 1, 2, 2, 1,\n",
       "        2, 1, 2, 2, 3, 2, 1, 1, 3, 1, 2, 1, 4, 1, 2, 2, 3, 4, 1, 4, 2, 1,\n",
       "        2, 1, 1, 2, 2, 1, 1, 2, 2, 4, 2, 2, 1, 1, 2, 2, 3, 1, 1, 2, 1, 3,\n",
       "        2, 1, 1, 2, 1, 2, 2, 1, 1, 2, 4, 1, 2, 1, 3, 2, 2, 1, 2, 2, 1, 1,\n",
       "        3, 2, 2, 4, 3, 1, 1, 3, 2, 4, 2, 2, 3, 2, 4, 1, 1, 2, 1, 2, 1, 1,\n",
       "        2, 2, 1, 1, 2, 2, 1, 2, 2, 4, 3, 1, 1, 2, 2, 1, 3, 2, 1, 4, 2, 1,\n",
       "        2, 2, 1, 1, 2, 2, 4, 1, 1, 2, 1, 1, 2, 2, 3, 2, 1, 3, 1, 2, 2, 1,\n",
       "        1, 3, 2, 1, 2, 1, 2, 1, 2, 1, 2, 2, 4, 2, 1, 4, 2, 2, 4, 1, 1, 2,\n",
       "        2, 1, 1, 2, 2, 1, 2, 1, 2, 1, 1, 2, 2, 1, 2, 1, 2, 1, 1, 2, 2, 1,\n",
       "        1, 2, 3, 2, 3, 1, 2, 4, 2, 1, 1, 4, 2, 1, 2, 1, 2, 2, 1, 4, 1, 2,\n",
       "        1, 1, 2, 2, 1, 1, 2, 2, 1, 1, 3, 2, 2, 1, 3, 1, 3, 1, 2, 2, 1, 2,\n",
       "        2, 1, 3, 4, 2, 2, 1, 1, 4, 2, 1, 3, 1, 1, 2, 2, 1, 2, 2, 1, 4, 1,\n",
       "        1, 2, 2, 1, 2, 2, 1, 1]], dtype=uint8)"
      ]
     },
     "execution_count": 40,
     "metadata": {},
     "output_type": "execute_result"
    }
   ],
   "source": [
    "sample_mat['playvecs'][0][0]"
   ]
  },
  {
   "cell_type": "code",
   "execution_count": 46,
   "id": "873c6175-df14-481b-891e-500538a8314c",
   "metadata": {},
   "outputs": [
    {
     "data": {
      "text/plain": [
       "{1: 150, 2: 150, 3: 30, 4: 30}"
      ]
     },
     "execution_count": 46,
     "metadata": {},
     "output_type": "execute_result"
    }
   ],
   "source": [
    "unique, counts = np.unique(sample_mat['playvecs'][0][0], return_counts=True)\n",
    "\n",
    "dict(zip(unique, counts))"
   ]
  },
  {
   "cell_type": "code",
   "execution_count": 31,
   "id": "62696f49",
   "metadata": {},
   "outputs": [
    {
     "name": "stdout",
     "output_type": "stream",
     "text": [
      "(2, 2)\n"
     ]
    },
    {
     "data": {
      "text/plain": [
       "array([[(array(['AS_MCattn_1Loc_ear-R_cond-1_Att-HF_dev-Dur_EEG_blk-1.mat'],\n",
       "              dtype='<U56'), array([[28]], dtype=uint8), array([[1]], dtype=uint8), array([[2]], dtype=uint8)),\n",
       "        (array(['AS_MCattn_1Loc_ear-R_cond-1_Att-HF_dev-Dur_EEG_blk-2.mat'],\n",
       "              dtype='<U56'), array([[28]], dtype=uint8), array([[0]], dtype=uint8), array([[2]], dtype=uint8))],\n",
       "       [(array(['AS_MCattn_1Loc_ear-R_cond-1_Att-LF_dev-Dur_EEG_blk-1.mat'],\n",
       "              dtype='<U56'), array([[29]], dtype=uint8), array([[0]], dtype=uint8), array([[1]], dtype=uint8)),\n",
       "        (array(['AS_MCattn_1Loc_ear-R_cond-1_Att-LF_dev-Dur_EEG_blk-2.mat'],\n",
       "              dtype='<U56'), array([[28]], dtype=uint8), array([[0]], dtype=uint8), array([[2]], dtype=uint8))]],\n",
       "      dtype=[('behfile', 'O'), ('perCorrect', 'O'), ('nHits', 'O'), ('nFA', 'O')])"
      ]
     },
     "execution_count": 31,
     "metadata": {},
     "output_type": "execute_result"
    }
   ],
   "source": [
    "print(sample_mat['beh'].shape)\n",
    "sample_mat['beh'] # HF, LF both do twice times"
   ]
  },
  {
   "cell_type": "code",
   "execution_count": 16,
   "id": "5f431594",
   "metadata": {},
   "outputs": [
    {
     "data": {
      "text/plain": [
       "(2, 5)"
      ]
     },
     "execution_count": 16,
     "metadata": {},
     "output_type": "execute_result"
    }
   ],
   "source": [
    "sample_mat['allepochs'].shape"
   ]
  },
  {
   "cell_type": "code",
   "execution_count": 20,
   "id": "b1cdda1f-aac6-4854-8588-bd6f90ee0480",
   "metadata": {},
   "outputs": [
    {
     "data": {
      "text/plain": [
       "(300, 358, 64)"
      ]
     },
     "execution_count": 20,
     "metadata": {},
     "output_type": "execute_result"
    }
   ],
   "source": [
    "sample_mat['allepochs'][0,3].shape"
   ]
  },
  {
   "cell_type": "code",
   "execution_count": 24,
   "id": "dbdae446",
   "metadata": {},
   "outputs": [
    {
     "data": {
      "text/plain": [
       "(2, 5)"
      ]
     },
     "execution_count": 24,
     "metadata": {},
     "output_type": "execute_result"
    }
   ],
   "source": [
    "sample_mat['playvecs'].shape"
   ]
  },
  {
   "cell_type": "code",
   "execution_count": 28,
   "id": "e8259cb0-10fe-41f5-8ebd-56d25c183dd3",
   "metadata": {},
   "outputs": [
    {
     "data": {
      "text/plain": [
       "(1, 300)"
      ]
     },
     "execution_count": 28,
     "metadata": {},
     "output_type": "execute_result"
    }
   ],
   "source": [
    "sample_mat['playvecs'][0][0].shape"
   ]
  },
  {
   "cell_type": "code",
   "execution_count": 49,
   "id": "95111047-1c8e-4e69-9832-533e2d04a6b7",
   "metadata": {},
   "outputs": [
    {
     "data": {
      "text/plain": [
       "[PosixPath('/mnt/lustre/OneDrive/sensetime-server-mirror/EEG-Data/Preprocessed-upload/Stand/AS_tinn_500and5kHz_mcattn-2_sess1_set1_ICAREV.mat'),\n",
       " PosixPath('/mnt/lustre/OneDrive/sensetime-server-mirror/EEG-Data/Preprocessed-upload/Stand/BH_cntl_2-Stream_mcattn-2_sess1_set1_ICAREV.mat'),\n",
       " PosixPath('/mnt/lustre/OneDrive/sensetime-server-mirror/EEG-Data/Preprocessed-upload/Stand/BL_tinn_2-Stream_mcattn-2_sess1_set1_ICAREV.mat'),\n",
       " PosixPath('/mnt/lustre/OneDrive/sensetime-server-mirror/EEG-Data/Preprocessed-upload/Stand/CF_cntl_2-Stream_mcattn-2_sess2_set1_ICAREV.mat'),\n",
       " PosixPath('/mnt/lustre/OneDrive/sensetime-server-mirror/EEG-Data/Preprocessed-upload/Stand/CP_tinn_500and5kHz_mcattn-2_sess1_set1_ICAREV.mat'),\n",
       " PosixPath('/mnt/lustre/OneDrive/sensetime-server-mirror/EEG-Data/Preprocessed-upload/Stand/DP_cntl_2-Stream_mcattn-2_sess2_set1_ICAREV.mat'),\n",
       " PosixPath('/mnt/lustre/OneDrive/sensetime-server-mirror/EEG-Data/Preprocessed-upload/Stand/DT_cntl_2-Stream_mcattn-2_sess1_set1_ICAREV.mat'),\n",
       " PosixPath('/mnt/lustre/OneDrive/sensetime-server-mirror/EEG-Data/Preprocessed-upload/Stand/FA_cntl_2-Stream_mcattn-2_sess1_set1_ICAREV.mat'),\n",
       " PosixPath('/mnt/lustre/OneDrive/sensetime-server-mirror/EEG-Data/Preprocessed-upload/Stand/JG_cntl_2-Stream_mcattn-2_sess1_set1_ICAREV.mat'),\n",
       " PosixPath('/mnt/lustre/OneDrive/sensetime-server-mirror/EEG-Data/Preprocessed-upload/Stand/JS_tinn_2-Stream_mcattn-2_sess1_set1_ICAREV.mat'),\n",
       " PosixPath('/mnt/lustre/OneDrive/sensetime-server-mirror/EEG-Data/Preprocessed-upload/Stand/KO_cntl_2-Stream_mcattn-2_sess1_set1_ICAREV.mat'),\n",
       " PosixPath('/mnt/lustre/OneDrive/sensetime-server-mirror/EEG-Data/Preprocessed-upload/Stand/LA_tinn_500and5kHz_mcattn-2_sess1_set1_ICAREV.mat'),\n",
       " PosixPath('/mnt/lustre/OneDrive/sensetime-server-mirror/EEG-Data/Preprocessed-upload/Stand/LB_cntl_2-Stream_mcattn-2_sess1_set1_ICAREV.mat'),\n",
       " PosixPath('/mnt/lustre/OneDrive/sensetime-server-mirror/EEG-Data/Preprocessed-upload/Stand/LH_tinn_500and5kHz_mcattn-2_sess1_set1_ICAREV.mat'),\n",
       " PosixPath('/mnt/lustre/OneDrive/sensetime-server-mirror/EEG-Data/Preprocessed-upload/Stand/LI_tinn_500and5kHz_mcattn-2_sess1_set1_ICAREV.mat'),\n",
       " PosixPath('/mnt/lustre/OneDrive/sensetime-server-mirror/EEG-Data/Preprocessed-upload/Stand/LL_tinn_2-Stream_mcattn-2_sess1_set1_ICAREV.mat'),\n",
       " PosixPath('/mnt/lustre/OneDrive/sensetime-server-mirror/EEG-Data/Preprocessed-upload/Stand/LW_tinn_2-Stream_mcattn-2_sess2_set1_ICAREV.mat'),\n",
       " PosixPath('/mnt/lustre/OneDrive/sensetime-server-mirror/EEG-Data/Preprocessed-upload/Stand/ML_tinn_2-Stream_mcattn-2_sess1_set1_ICAREV.mat'),\n",
       " PosixPath('/mnt/lustre/OneDrive/sensetime-server-mirror/EEG-Data/Preprocessed-upload/Stand/MR_cntl_2-Stream_mcattn-2_sess3_set1_ICAREV.mat'),\n",
       " PosixPath('/mnt/lustre/OneDrive/sensetime-server-mirror/EEG-Data/Preprocessed-upload/Stand/NY_tinn_2-Stream_mcattn-2_sess1_set1_ICAREV.mat'),\n",
       " PosixPath('/mnt/lustre/OneDrive/sensetime-server-mirror/EEG-Data/Preprocessed-upload/Stand/OG_tinn_500and5kHz_mcattn-2_sess1_set1_ICAREV.mat'),\n",
       " PosixPath('/mnt/lustre/OneDrive/sensetime-server-mirror/EEG-Data/Preprocessed-upload/Stand/PC_cntl_2-Stream_mcattn-2_sess1_set1_ICAREV.mat'),\n",
       " PosixPath('/mnt/lustre/OneDrive/sensetime-server-mirror/EEG-Data/Preprocessed-upload/Stand/PG_cntl_2-Stream_mcattn-2_sess1_set1_ICAREV.mat'),\n",
       " PosixPath('/mnt/lustre/OneDrive/sensetime-server-mirror/EEG-Data/Preprocessed-upload/Stand/PS_tinn_500and5kHz_mcattn-2_sess1_set1_ICAREV.mat'),\n",
       " PosixPath('/mnt/lustre/OneDrive/sensetime-server-mirror/EEG-Data/Preprocessed-upload/Stand/RA_tinn_2-Stream_mcattn-2_sess1_set1_ICAREV.mat'),\n",
       " PosixPath('/mnt/lustre/OneDrive/sensetime-server-mirror/EEG-Data/Preprocessed-upload/Stand/RK_tinn_500and5kHz_mcattn-2_sess1_set1_ICAREV.mat'),\n",
       " PosixPath('/mnt/lustre/OneDrive/sensetime-server-mirror/EEG-Data/Preprocessed-upload/Stand/RP_cntl_2-Stream_mcattn-2_sess1_set1_ICAREV.mat'),\n",
       " PosixPath('/mnt/lustre/OneDrive/sensetime-server-mirror/EEG-Data/Preprocessed-upload/Stand/RS_cntl_2-Stream_mcattn-2_sess1_set1_ICAREV.mat'),\n",
       " PosixPath('/mnt/lustre/OneDrive/sensetime-server-mirror/EEG-Data/Preprocessed-upload/Stand/SO_cntl_2-Stream_mcattn-2_sess1_set1_ICAREV.mat'),\n",
       " PosixPath('/mnt/lustre/OneDrive/sensetime-server-mirror/EEG-Data/Preprocessed-upload/Stand/TJ_cntl_2-Stream_mcattn-2_sess1_set1_ICAREV.mat'),\n",
       " PosixPath('/mnt/lustre/OneDrive/sensetime-server-mirror/EEG-Data/Preprocessed-upload/Stand/TW_tinn_500and5kHz_mcattn-2_sess1_set1_ICAREV.mat'),\n",
       " PosixPath('/mnt/lustre/OneDrive/sensetime-server-mirror/EEG-Data/Preprocessed-upload/Stand/VN_tinn_500and5kHz_mcattn-2_sess1_set1_ICAREV.mat'),\n",
       " PosixPath('/mnt/lustre/OneDrive/sensetime-server-mirror/EEG-Data/Preprocessed-upload/Stand/WJ_cntl_2-Stream_mcattn-2_sess1_set1_ICAREV.mat'),\n",
       " PosixPath('/mnt/lustre/OneDrive/sensetime-server-mirror/EEG-Data/Preprocessed-upload/Stand/ZF_tinn_500and5kHz_mcattn-2_sess1_set1_ICAREV.mat')]"
      ]
     },
     "execution_count": 49,
     "metadata": {},
     "output_type": "execute_result"
    }
   ],
   "source": []
  },
  {
   "cell_type": "code",
   "execution_count": null,
   "id": "55c1bae9-4cd1-4ab1-85ab-4ea914ba10b2",
   "metadata": {},
   "outputs": [],
   "source": [
    "# 3 task -> 1 2 3 4 mark -> independent npy array\n",
    "from pdb import set_trace as st\n",
    "from tqdm import tqdm\n",
    "# processing standard here\n",
    "\n",
    "output_dir = '/mnt/lustre/2023/processed_eeg_data/standard'\n",
    "output_dir = Path(output_dir)\n",
    "\n",
    "def export_standard_data(sample_mat, id_name, output_dir, passive=False):\n",
    "    _, blk_num = sample_mat['beh'].shape # 2,5\n",
    "    # st()\n",
    "    if not passive:\n",
    "        assert 'Att-HF' in sample_mat['beh'][0][-1][0][0]\n",
    "        assert 'Att-LF' in sample_mat['beh'][1][-1][0][0]\n",
    "    \n",
    "    sample_output_dir = output_dir / id_name\n",
    "    \n",
    "    for task_name, task_idx in zip(('Att-HF', 'Att-LF'), (0,1)):\n",
    "        sample_output_path = sample_output_dir / task_name\n",
    "        # output_path.mkdir(parents=True, exist_ok=True)\n",
    "        \n",
    "        for blk_idx in range(blk_num):\n",
    "            for mark_idx in range(sample_mat['playvecs'][task_idx][blk_idx].shape[1]):\n",
    "                mask = sample_mat['playvecs'][task_idx][blk_idx][0, mark_idx] # 300 data points.\n",
    "                array_instance_output_dir = sample_output_path / str(mask) # save the data points in the playvecs flat catgories\n",
    "                array_instance_output_dir.mkdir(parents=True, exist_ok=True)\n",
    "                \n",
    "                # save to local directory\n",
    "                spectrum_array = sample_mat['allepochs'][task_idx][blk_idx][mark_idx] # 358 * 64\n",
    "                # np.save(array_instance_output_dir / f'blk{blk_idx}_markidx{mark_idx}.npy', spectrum_array)\n",
    "                print(array_instance_output_dir / f'blk{blk_idx}_markidx{mark_idx}.npy')\n",
    "                                  \n",
    "                    \n",
    "# export_standard_data(sample_mat, 'BF')\n",
    "# process standard"
   ]
  },
  {
   "cell_type": "code",
   "execution_count": null,
   "id": "7ff353df-d279-4d1e-b7e5-b26a5ad8925d",
   "metadata": {},
   "outputs": [],
   "source": [
    "output_dir = '/mnt/lustre/2023/processed_eeg_data/passive'\n",
    "output_dir = Path(output_dir)\n",
    "dataset_root = Path('/mnt/lustre/OneDrive/sensetime-server-mirror/EEG-Data/Preprocessed-upload/') / 'Passive'\n",
    "\n",
    "all_ids = sorted(dataset_root.glob('*.mat'))\n",
    "for id_name in tqdm(all_ids[:]):\n",
    "    id_prefix = id_name.stem[:7]\n",
    "    eeg_mat = scipy.io.loadmat(id_name)\n",
    "    # print(id_prefix)\n",
    "    try:\n",
    "        # export_standard_data(eeg_mat, id_prefix, output_dir, passive=False)\n",
    "        export_standard_data(eeg_mat, id_prefix, output_dir, passive=False)\n",
    "    except Exception as e:\n",
    "        print(e)"
   ]
  },
  {
   "cell_type": "code",
   "execution_count": 67,
   "id": "dbdace52-f1b4-4e24-baea-bef9a616c69a",
   "metadata": {},
   "outputs": [
    {
     "name": "stderr",
     "output_type": "stream",
     "text": [
      " 16%|█▌        | 5/31 [00:08<00:39,  1.52s/it]"
     ]
    },
    {
     "name": "stdout",
     "output_type": "stream",
     "text": [
      "index 328 is out of bounds for axis 0 with size 328\n"
     ]
    },
    {
     "name": "stderr",
     "output_type": "stream",
     "text": [
      " 81%|████████  | 25/31 [00:49<00:14,  2.46s/it]"
     ]
    },
    {
     "name": "stdout",
     "output_type": "stream",
     "text": [
      "index 168 is out of bounds for axis 0 with size 168\n"
     ]
    },
    {
     "name": "stderr",
     "output_type": "stream",
     "text": [
      "100%|██████████| 31/31 [01:03<00:00,  2.05s/it]"
     ]
    },
    {
     "name": "stdout",
     "output_type": "stream",
     "text": [
      "'beh'\n"
     ]
    },
    {
     "name": "stderr",
     "output_type": "stream",
     "text": [
      "\n"
     ]
    }
   ],
   "source": [
    "output_dir = '/mnt/lustre/2023/processed_eeg_data/passive'\n",
    "output_dir = Path(output_dir)\n",
    "dataset_root = Path('/mnt/lustre/OneDrive/sensetime-server-mirror/EEG-Data/Preprocessed-upload/') / 'Passive'\n",
    "\n",
    "def export_passive_data(sample_mat, id_name, output_dir):\n",
    "    _, blk_num = sample_mat['beh'].shape\n",
    "    # st()\n",
    "\n",
    "    sample_output_dir = output_dir / id_name\n",
    "    \n",
    "    # for task_name, task_idx in zip(('Att-HF', 'Att-LF'), (0,1)):\n",
    "    for task_name, task_idx in zip([' '], [0]):\n",
    "        sample_output_path = sample_output_dir / task_name\n",
    "        # output_path.mkdir(parents=True, exist_ok=True)\n",
    "        \n",
    "        for blk_idx in range(blk_num):\n",
    "            for mark_idx in range(sample_mat['playvecs'][task_idx][blk_idx].shape[1]):\n",
    "                mask = sample_mat['playvecs'][task_idx][blk_idx][0, mark_idx]\n",
    "                array_instance_output_dir = sample_output_path / str(mask)\n",
    "                array_instance_output_dir.mkdir(parents=True, exist_ok=True)\n",
    "                \n",
    "                # save to local directory\n",
    "                spectrum_array = sample_mat['allepochs'][task_idx][blk_idx][mark_idx] # 358 * 64\n",
    "                np.save(array_instance_output_dir / f'blk{blk_idx}_markidx{mark_idx}.npy', spectrum_array)\n",
    "                # print(array_instance_output_dir / f'blk{blk_idx}_markidx{mark_idx}.npy')\n",
    "\n",
    "\n",
    "all_ids = sorted(dataset_root.glob('*.mat'))\n",
    "for id_name in tqdm(all_ids[:]):\n",
    "    id_prefix = id_name.stem[:7]\n",
    "    eeg_mat = scipy.io.loadmat(id_name)\n",
    "    # print(id_prefix)\n",
    "    try:\n",
    "        # export_standard_data(eeg_mat, id_prefix, output_dir, passive=False)\n",
    "        export_passive_data(eeg_mat, id_prefix, output_dir)\n",
    "    except Exception as e:\n",
    "        print(e)"
   ]
  },
  {
   "cell_type": "code",
   "execution_count": null,
   "id": "85f29342-2b5c-4f7e-9dfe-0f86d869cb09",
   "metadata": {},
   "outputs": [],
   "source": []
  }
 ],
 "metadata": {
  "kernelspec": {
   "display_name": "Python 3 (ipykernel)",
   "language": "python",
   "name": "python3"
  },
  "language_info": {
   "codemirror_mode": {
    "name": "ipython",
    "version": 3
   },
   "file_extension": ".py",
   "mimetype": "text/x-python",
   "name": "python",
   "nbconvert_exporter": "python",
   "pygments_lexer": "ipython3",
   "version": "3.9.15"
  },
  "vscode": {
   "interpreter": {
    "hash": "d2152fd7f0bbc62aa1baff8c990435d1e2c7175d001561303988032604c11a48"
   }
  }
 },
 "nbformat": 4,
 "nbformat_minor": 5
}
