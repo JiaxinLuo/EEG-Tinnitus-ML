{
 "cells": [
  {
   "cell_type": "code",
   "execution_count": 2,
   "id": "60953a8e-f31b-4f44-8b3d-a7dbaf6293d9",
   "metadata": {},
   "outputs": [
    {
     "name": "stdout",
     "output_type": "stream",
     "text": [
      "Defaulting to user installation because normal site-packages is not writeable\n",
      "Collecting scipy\n",
      "  Downloading scipy-1.10.0-cp310-cp310-manylinux_2_17_x86_64.manylinux2014_x86_64.whl (34.4 MB)\n",
      "\u001b[2K     \u001b[90m━━━━━━━━━━━━━━━━━━━━━━━━━━━━━━━━━━━━━━━\u001b[0m \u001b[32m34.4/34.4 MB\u001b[0m \u001b[31m685.6 kB/s\u001b[0m eta \u001b[36m0:00:00\u001b[0m00:01\u001b[0m00:02\u001b[0m\n",
      "\u001b[?25hRequirement already satisfied: numpy<1.27.0,>=1.19.5 in /usr/lib/python3.10/site-packages (from scipy) (1.23.4)\n",
      "Installing collected packages: scipy\n",
      "Successfully installed scipy-1.10.0\n"
     ]
    }
   ],
   "source": [
    "import numpy as np\n",
    "# import torch\n",
    "# ! pip install scipy\n",
    "from pathlib import Path\n",
    "!pip install scipy\n",
    "import scipy"
   ]
  },
  {
   "cell_type": "code",
   "execution_count": 4,
   "id": "e2b02cb2-43ee-4fef-914d-0ca27cd40984",
   "metadata": {},
   "outputs": [],
   "source": [
    "dataset_root = Path('/mnt/lustre/OneDrive/sensetime-server-mirror/EEG-Data/Preprocessed-upload') / 'Stand'\n",
    "# dataset_root = Path('eeg-preprocessed\\Preprocessed') / 'Tinnitus'"
   ]
  },
  {
   "cell_type": "code",
   "execution_count": 21,
   "id": "de37ddcc",
   "metadata": {},
   "outputs": [],
   "source": [
    "# sample_name = 'AS_tinn_500and5kHz_mcattn-2_sess1_set1_ICAREV.mat'\n",
    "sample_name = 'BH_cntl_2-Stream_mcattn-2_sess1_set1_ICAREV.mat'\n",
    "\n",
    "# with open(str(dataset_root / sample_name), 'r') as f:\n",
    "sample_mat = scipy.io.loadmat(str(dataset_root / sample_name))"
   ]
  },
  {
   "cell_type": "code",
   "execution_count": 13,
   "id": "a0aaed63",
   "metadata": {},
   "outputs": [
    {
     "data": {
      "text/plain": [
       "dict_keys(['__header__', '__version__', '__globals__', 'FI', 'allchreport', 'beh', 'behfiles', 'blknums', 'conds', 'eeg', 'eegfiles', 'files', 'filt', 'fs', 'fullpath', 'isivecs', 'loc', 'notes', 'originalfile', 'playvecs', 'stim', 'stri', 'svICIREV', 'time', 'allicadata', 'ica2chan', 'Reference', 'allartscr', 'allepochs', 'alltrlreport'])"
      ]
     },
     "execution_count": 13,
     "metadata": {},
     "output_type": "execute_result"
    }
   ],
   "source": [
    "sample_mat.keys()"
   ]
  },
  {
   "cell_type": "code",
   "execution_count": 19,
   "id": "62696f49",
   "metadata": {},
   "outputs": [
    {
     "data": {
      "text/plain": [
       "array([[(array(['AS_MCattn_1Loc_ear-R_cond-1_Att-HF_dev-Dur_EEG_blk-1.mat'],\n",
       "              dtype='<U56'), array([[28]], dtype=uint8), array([[1]], dtype=uint8), array([[2]], dtype=uint8)),\n",
       "        (array(['AS_MCattn_1Loc_ear-R_cond-1_Att-HF_dev-Dur_EEG_blk-2.mat'],\n",
       "              dtype='<U56'), array([[28]], dtype=uint8), array([[0]], dtype=uint8), array([[2]], dtype=uint8))],\n",
       "       [(array(['AS_MCattn_1Loc_ear-R_cond-1_Att-LF_dev-Dur_EEG_blk-1.mat'],\n",
       "              dtype='<U56'), array([[29]], dtype=uint8), array([[0]], dtype=uint8), array([[1]], dtype=uint8)),\n",
       "        (array(['AS_MCattn_1Loc_ear-R_cond-1_Att-LF_dev-Dur_EEG_blk-2.mat'],\n",
       "              dtype='<U56'), array([[28]], dtype=uint8), array([[0]], dtype=uint8), array([[2]], dtype=uint8))]],\n",
       "      dtype=[('behfile', 'O'), ('perCorrect', 'O'), ('nHits', 'O'), ('nFA', 'O')])"
      ]
     },
     "execution_count": 19,
     "metadata": {},
     "output_type": "execute_result"
    }
   ],
   "source": [
    "sample_mat['beh']"
   ]
  },
  {
   "cell_type": "code",
   "execution_count": 10,
   "id": "5f431594",
   "metadata": {},
   "outputs": [
    {
     "data": {
      "text/plain": [
       "(360, 358, 64)"
      ]
     },
     "execution_count": 10,
     "metadata": {},
     "output_type": "execute_result"
    }
   ],
   "source": [
    "sample_mat['allepochs'][1][1].shape # 2*2 shape"
   ]
  },
  {
   "cell_type": "code",
   "execution_count": 20,
   "id": "dbdae446",
   "metadata": {},
   "outputs": [
    {
     "data": {
      "text/plain": [
       "array([[1, 1, 1, 2, 1, 3, 2, 1, 2, 2, 2, 1, 1, 2, 2, 1, 1, 4, 2, 1, 2, 1,\n",
       "        2, 1, 1, 2, 3, 1, 1, 2, 2, 3, 1, 2, 2, 1, 2, 2, 1, 1, 2, 3, 2, 2,\n",
       "        4, 1, 1, 2, 2, 1, 1, 4, 2, 2, 1, 2, 1, 2, 2, 1, 2, 2, 1, 1, 2, 2,\n",
       "        1, 2, 1, 1, 2, 2, 1, 4, 2, 1, 2, 3, 1, 3, 1, 3, 1, 1, 2, 1, 2, 1,\n",
       "        1, 2, 2, 1, 1, 2, 1, 2, 1, 4, 1, 3, 4, 1, 2, 2, 1, 2, 1, 3, 2, 1,\n",
       "        2, 4, 1, 2, 1, 2, 2, 1, 1, 2, 1, 1, 2, 2, 1, 1, 3, 2, 1, 1, 3, 1,\n",
       "        2, 2, 1, 1, 2, 4, 1, 1, 2, 2, 4, 3, 1, 1, 4, 2, 3, 2, 1, 1, 2, 2,\n",
       "        4, 1, 1, 2, 2, 1, 2, 2, 1, 2, 1, 1, 2, 4, 2, 3, 1, 3, 4, 2, 1, 2,\n",
       "        2, 1, 1, 4, 1, 2, 2, 2, 3, 1, 1, 2, 2, 1, 4, 2, 1, 2, 2, 4, 2, 4,\n",
       "        2, 2, 4, 2, 3, 4, 1, 2, 1, 2, 1, 1, 4, 1, 2, 1, 3, 2, 2, 1, 4, 1,\n",
       "        2, 2, 3, 1, 3, 1, 2, 2, 3, 1, 2, 1, 2, 2, 4, 2, 1, 1, 2, 1, 4, 2,\n",
       "        2, 1, 1, 2, 1, 1, 2, 1, 2, 1, 2, 3, 4, 2, 2, 3, 1, 2, 1, 1, 1, 4,\n",
       "        2, 1, 2, 1, 1, 2, 2, 1, 4, 1, 2, 2, 1, 1, 3, 1, 2, 2, 1, 2, 2, 3,\n",
       "        1, 1, 2, 1, 2, 2, 4, 3, 2, 1, 4, 1, 2, 2, 1, 1, 2, 1, 2, 2, 1, 1,\n",
       "        2, 1, 1, 3, 2, 1, 2, 2, 1, 2, 1, 2, 2, 1, 2, 3, 2, 2, 1, 1, 2, 2,\n",
       "        1, 1, 2, 2, 1, 2, 1, 1, 3, 1, 1, 2, 4, 1, 1, 2, 2, 1, 4, 2, 1, 1,\n",
       "        2, 1, 3, 2, 2, 1, 2, 1]], dtype=uint8)"
      ]
     },
     "execution_count": 20,
     "metadata": {},
     "output_type": "execute_result"
    }
   ],
   "source": [
    "sample_mat['playvecs'][0][1][:20]"
   ]
  },
  {
   "cell_type": "code",
   "execution_count": null,
   "id": "48776524",
   "metadata": {},
   "outputs": [],
   "source": []
  }
 ],
 "metadata": {
  "kernelspec": {
   "display_name": "Python 3",
   "language": "python",
   "name": "python3"
  },
  "language_info": {
   "codemirror_mode": {
    "name": "ipython",
    "version": 3
   },
   "file_extension": ".py",
   "mimetype": "text/x-python",
   "name": "python",
   "nbconvert_exporter": "python",
   "pygments_lexer": "ipython3",
   "version": "3.10.8"
  },
  "vscode": {
   "interpreter": {
    "hash": "d2152fd7f0bbc62aa1baff8c990435d1e2c7175d001561303988032604c11a48"
   }
  }
 },
 "nbformat": 4,
 "nbformat_minor": 5
}
